{
 "metadata": {
  "language_info": {
   "codemirror_mode": {
    "name": "ipython",
    "version": 3
   },
   "file_extension": ".py",
   "mimetype": "text/x-python",
   "name": "python",
   "nbconvert_exporter": "python",
   "pygments_lexer": "ipython3",
   "version": "3.7.0"
  },
  "orig_nbformat": 2,
  "kernelspec": {
   "name": "python3",
   "display_name": "Python 3.7.0 64-bit ('iota': conda)"
  },
  "interpreter": {
   "hash": "199fe5134fc0863efb0a0ebb1d6b8f4fed8f12ecee71d101e0be3c7f0ffe7964"
  }
 },
 "nbformat": 4,
 "nbformat_minor": 2,
 "cells": [
  {
   "cell_type": "code",
   "execution_count": 1,
   "metadata": {},
   "outputs": [],
   "source": [
    "import os\n",
    "import nest_asyncio\n",
    "nest_asyncio.apply()\n",
    "os.chdir('..')\n",
    "from Basic.Node import Node, decorator\n",
    "from iota import ProposedTransaction, Address, TryteString\n",
    "import asyncio "
   ]
  },
  {
   "cell_type": "code",
   "execution_count": 2,
   "metadata": {},
   "outputs": [],
   "source": [
    "node = Node()"
   ]
  },
  {
   "cell_type": "code",
   "execution_count": 3,
   "metadata": {},
   "outputs": [],
   "source": [
    "import base64\n",
    "data = {\n",
    "    'iota' : 1000,\n",
    "    'address' : Address('')\n",
    "}\n",
    "addy = Address('UJIXPRFEZEFRWHXSZAZJRPZXLXADCQQINZCKIPJANQMRNUXNMROTLYKFTRJUBUSNKCQLQKYVJNZERDFGX')\n",
    "transactions = [\n",
    "    ProposedTransaction(\n",
    "        address=addy,\n",
    "        value=0,\n",
    "        message=TryteString.from_string(str(data)),\n",
    "    )\n",
    "]"
   ]
  },
  {
   "cell_type": "code",
   "execution_count": 5,
   "metadata": {},
   "outputs": [],
   "source": [
    "a = node.send(transactions)\n",
    "b = a"
   ]
  },
  {
   "cell_type": "code",
   "execution_count": 8,
   "metadata": {},
   "outputs": [],
   "source": [
    "del a"
   ]
  },
  {
   "cell_type": "code",
   "execution_count": 14,
   "metadata": {},
   "outputs": [
    {
     "output_type": "execute_result",
     "data": {
      "text/plain": [
       "<coroutine object Node.send at 0x000001FACE32C248>"
      ]
     },
     "metadata": {},
     "execution_count": 14
    }
   ],
   "source": [
    "b"
   ]
  },
  {
   "cell_type": "code",
   "execution_count": 4,
   "metadata": {},
   "outputs": [
    {
     "output_type": "stream",
     "name": "stdout",
     "text": [
      "Sending bundle...\n",
      "Sent bundle with transactions: \n",
      "VUQJDCSFWAYHCFATPYHHMKCNDKBZFTP9IVYXTUOXEGRMNEQTOOJNKRUSSETVCEHGTRLRWWQSHZPTZE999\n",
      "Checking confirmation...\n",
      ".\n",
      ".\n",
      "Transaction VUQJDCSFWAYHCFATPYHHMKCNDKBZFTP9IVYXTUOXEGRMNEQTOOJNKRUSSETVCEHGTRLRWWQSHZPTZE999 is confirmed.\n",
      "Sending bundle...\n",
      "Attempts remaining: 14\n",
      "Attempts remaining: 13\n",
      "Attempts remaining: 12\n",
      "Attempts remaining: 11\n",
      "Attempts remaining: 10\n",
      "Attempts remaining: 9\n",
      "Attempts remaining: 8\n",
      "Attempts remaining: 7\n",
      "Attempts remaining: 6\n",
      "Attempts remaining: 5\n",
      "Attempts remaining: 4\n",
      "Attempts remaining: 3\n",
      "Attempts remaining: 2\n",
      "Attempts remaining: 1\n",
      "Attempts remaining: 0\n"
     ]
    }
   ],
   "source": [
    "decorator(node.send(transactions))\n",
    "decorator(node.send(transactions))"
   ]
  },
  {
   "cell_type": "code",
   "execution_count": 7,
   "metadata": {},
   "outputs": [
    {
     "output_type": "stream",
     "name": "stdout",
     "text": [
      "Sending bundle...\n",
      "Sent bundle with transactions: \n",
      "SZPHGEMEFZYMYRGSKSIFUKKZGMUJUNEINDFREMXIKUN9JNHLBVVBHRAHZEYTGZXWAKLHIYQULBUADX999\n",
      "Checking confirmation...\n",
      ".\n",
      "Transaction SZPHGEMEFZYMYRGSKSIFUKKZGMUJUNEINDFREMXIKUN9JNHLBVVBHRAHZEYTGZXWAKLHIYQULBUADX999 is confirmed.\n",
      "Sending bundle...\n",
      "try again\n",
      "Sending bundle...\n",
      "Sent bundle with transactions: \n",
      "OJXH9BQQLBZHZQRDVLXIBTXJBDVNVPXNIWIBMSN9X9EUQDVKJFUKURDGOOTGWRIHDLAFYBCVLZLVXE999\n",
      "Checking confirmation...\n",
      ".\n",
      ".\n",
      ".\n",
      "Transaction OJXH9BQQLBZHZQRDVLXIBTXJBDVNVPXNIWIBMSN9X9EUQDVKJFUKURDGOOTGWRIHDLAFYBCVLZLVXE999 is confirmed.\n"
     ]
    }
   ],
   "source": [
    "decorator(node.send(transactions))\n",
    "try:\n",
    "    decorator(node.send(transactions))\n",
    "except:\n",
    "    print('try again')\n",
    "    decorator(node.send(transactions))"
   ]
  },
  {
   "cell_type": "code",
   "execution_count": 4,
   "metadata": {},
   "outputs": [],
   "source": [
    "def test():\n",
    "    print('into')\n",
    "    decorator(node.send(transactions))\n",
    "    print('out')"
   ]
  },
  {
   "cell_type": "code",
   "execution_count": 5,
   "metadata": {},
   "outputs": [
    {
     "output_type": "stream",
     "name": "stdout",
     "text": [
      "into\n",
      "Sending bundle...\n",
      "Sent bundle with transactions: \n",
      "9LFKSRYHRSMXFNYNPTRJDPTPXNZHCVJPAHUGUBCBNDTCWFRMOLRWSSWSOEMHV9HYOECDRWYMWWQKOR999\n",
      "Checking confirmation...\n",
      ".\n",
      ".\n",
      ".\n",
      ".\n",
      ".\n",
      "Transaction 9LFKSRYHRSMXFNYNPTRJDPTPXNZHCVJPAHUGUBCBNDTCWFRMOLRWSSWSOEMHV9HYOECDRWYMWWQKOR999 is confirmed.\n",
      "out\n"
     ]
    }
   ],
   "source": [
    "import threading\n",
    "import time\n",
    "t = threading.Thread(target=test)\n",
    "t.start()\n",
    "time.sleep(300)"
   ]
  },
  {
   "cell_type": "code",
   "execution_count": 31,
   "metadata": {},
   "outputs": [
    {
     "output_type": "execute_result",
     "data": {
      "text/plain": [
       "'100.0'"
      ]
     },
     "metadata": {},
     "execution_count": 31
    }
   ],
   "source": [
    "base64.b64decode(['MTAwLjA='][0]).decode()"
   ]
  },
  {
   "cell_type": "code",
   "execution_count": 3,
   "metadata": {},
   "outputs": [
    {
     "output_type": "stream",
     "name": "stdout",
     "text": [
      "Couldn't find data for the given address.\nFound No data or invaild address type:<class 'iota.types.Address'>\n,                should be iota.types.Address or str, None will be returned\n"
     ]
    },
    {
     "output_type": "execute_result",
     "data": {
      "text/plain": [
       "True"
      ]
     },
     "metadata": {},
     "execution_count": 3
    }
   ],
   "source": [
    "addy = Address('PZITJTHCIIANKQWEBWPUPHWPWVNBKW9GMNALMGGSIAUOYCKNWDLUUIGAVMJYCHZXHUBRIVOLFZHUVDLME')\n",
    "decorator(node.fetch(addy)) == []"
   ]
  },
  {
   "cell_type": "code",
   "execution_count": 9,
   "metadata": {},
   "outputs": [
    {
     "output_type": "stream",
     "name": "stdout",
     "text": [
      "'Check your transaction on the Tangle!'\n'https://utils.iota.org/transaction/KAJKVGLVQMHCZDXEHEONODIWJRUWSSHAGKGDFBCFEQGFWHGFKUWLYRZNMGUGGOPLXXXCNIGSSBCXPI999/devnet'\n"
     ]
    }
   ],
   "source": [
    "from iota import Iota, TryteString, Address, Tag, ProposedTransaction\n",
    "from pprint import pprint\n",
    "\n",
    "# Declare an API object\n",
    "api = Iota('https://nodes.devnet.iota.org:443', devnet=True)\n",
    "\n",
    "# Prepare custom data\n",
    "my_data = TryteString.from_unicode('Hello from the Tangle!')\n",
    "\n",
    "# Generate a random address that doesn't have to belong to anyone\n",
    "my_address = Address.random()\n",
    "\n",
    "# Tag is optional here\n",
    "my_tag = Tag(b'MY9FIRST9TAG')\n",
    "\n",
    "# Prepare a transaction object\n",
    "tx = ProposedTransaction(\n",
    "    address=my_address,\n",
    "    value=0,\n",
    "    tag=my_tag,\n",
    "    message=my_data\n",
    ")\n",
    "\n",
    "# Send the transaction to the network\n",
    "response = api.send_transfer([tx])\n",
    "\n",
    "pprint('Check your transaction on the Tangle!')\n",
    "pprint('https://utils.iota.org/transaction/%s/devnet' % response['bundle'][0].hash)"
   ]
  },
  {
   "cell_type": "code",
   "execution_count": 6,
   "metadata": {},
   "outputs": [],
   "source": [
    "import redis"
   ]
  },
  {
   "cell_type": "code",
   "execution_count": 7,
   "metadata": {},
   "outputs": [],
   "source": [
    "pub = redis.StrictRedis(host='115.159.218.11', port=6379, password='2Wy%sGehG3UAe3mt')"
   ]
  },
  {
   "cell_type": "code",
   "execution_count": 13,
   "metadata": {},
   "outputs": [
    {
     "output_type": "execute_result",
     "data": {
      "text/plain": [
       "{'collection_address': Address(b'UJIXPRFEZEFRWHXSZAZJRPZXLXADCQQINZCKIPJANQMRNUXNMROTLYKFTRJUBUSNKCQLQKYVJNZERDFGX'),\n",
       " 'price': 10}"
      ]
     },
     "metadata": {},
     "execution_count": 13
    }
   ],
   "source": [
    "eval(pub.get('P-C'))"
   ]
  },
  {
   "cell_type": "code",
   "execution_count": 16,
   "metadata": {},
   "outputs": [],
   "source": [
    "sub1 = redis.StrictRedis(host='115.159.218.11', port=6379, password='2Wy%sGehG3UAe3mt')\n",
    "sub2 = redis.StrictRedis(host='115.159.218.11', port=6379, password='2Wy%sGehG3UAe3mt')\n",
    "ps1 = sub1.pubsub()\n",
    "ps2 = sub2.pubsub()\n",
    "#ps1.subscribe('liao') \n",
    "#ps2.subscribe('liao') "
   ]
  },
  {
   "cell_type": "code",
   "execution_count": 18,
   "metadata": {},
   "outputs": [],
   "source": [
    "pub.get('P-C')"
   ]
  },
  {
   "cell_type": "code",
   "execution_count": 9,
   "metadata": {},
   "outputs": [],
   "source": [
    "def my_handler(message, store=[]):\n",
    "    print('MY HANDLER: ', message['data'].decode())\n",
    "ps1.subscribe(**{'I-P': my_handler})\n",
    "thread1 = ps1.run_in_thread()"
   ]
  },
  {
   "cell_type": "code",
   "execution_count": 8,
   "metadata": {},
   "outputs": [],
   "source": [
    "ps2.subscribe('I-C') "
   ]
  },
  {
   "cell_type": "code",
   "execution_count": 11,
   "metadata": {},
   "outputs": [],
   "source": [
    "ps1.get_message()"
   ]
  },
  {
   "cell_type": "code",
   "execution_count": 15,
   "metadata": {},
   "outputs": [
    {
     "output_type": "execute_result",
     "data": {
      "text/plain": [
       "{'type': 'message',\n",
       " 'pattern': None,\n",
       " 'channel': b'I-C',\n",
       " 'data': b\"{'type': 'surplus', 'address': 100.0}\"}"
      ]
     },
     "metadata": {},
     "execution_count": 15
    }
   ],
   "source": [
    "ps2.get_message()"
   ]
  },
  {
   "cell_type": "code",
   "execution_count": 4,
   "metadata": {},
   "outputs": [],
   "source": [
    "from iota import ProposedTransaction, Address, TryteString"
   ]
  },
  {
   "cell_type": "code",
   "execution_count": 8,
   "metadata": {},
   "outputs": [
    {
     "output_type": "execute_result",
     "data": {
      "text/plain": [
       "1"
      ]
     },
     "metadata": {},
     "execution_count": 8
    }
   ],
   "source": [
    "pub.publish('C-I',str({'type':'add_request'}))"
   ]
  },
  {
   "cell_type": "code",
   "execution_count": 6,
   "metadata": {},
   "outputs": [
    {
     "output_type": "execute_result",
     "data": {
      "text/plain": [
       "1"
      ]
     },
     "metadata": {},
     "execution_count": 6
    }
   ],
   "source": [
    "pub.publish('P-I',str({'type':'psw_request', 'address':Address(''), 'quantity':100.0}))"
   ]
  },
  {
   "cell_type": "code",
   "execution_count": 1,
   "metadata": {},
   "outputs": [],
   "source": [
    "import os\n",
    "os.chdir('..')\n",
    "from Basic.Public_Com import Client"
   ]
  },
  {
   "cell_type": "code",
   "execution_count": 2,
   "metadata": {},
   "outputs": [
    {
     "output_type": "stream",
     "name": "stdout",
     "text": [
      "Client has started, the connection will be closed if it's no longer active\nClient has started, the connection will be closed if it's no longer active\n"
     ]
    }
   ],
   "source": [
    "pub = Client()\n",
    "sub = Client(sub=True)"
   ]
  },
  {
   "cell_type": "code",
   "execution_count": 3,
   "metadata": {},
   "outputs": [
    {
     "output_type": "stream",
     "name": "stdout",
     "text": [
      "msg of [channel: w] will be handled by self.handler as soon as recived\nto stop this thread, call thread.stop()\n"
     ]
    },
    {
     "output_type": "execute_result",
     "data": {
      "text/plain": [
       "<PubSubWorkerThread(Thread-4, started 8596)>"
      ]
     },
     "metadata": {},
     "execution_count": 3
    }
   ],
   "source": [
    "sub.subscribe('w', True)"
   ]
  },
  {
   "cell_type": "code",
   "execution_count": 4,
   "metadata": {},
   "outputs": [],
   "source": [
    "sub.get_message()"
   ]
  },
  {
   "cell_type": "code",
   "execution_count": 8,
   "metadata": {},
   "outputs": [
    {
     "output_type": "stream",
     "name": "stdout",
     "text": [
      "CHANNEL[b'w']:b'878'\n"
     ]
    }
   ],
   "source": [
    "num = pub.publish('w','878')"
   ]
  },
  {
   "cell_type": "code",
   "execution_count": 7,
   "metadata": {},
   "outputs": [],
   "source": [
    "def a():\n",
    "    while True:\n",
    "        print(1)"
   ]
  },
  {
   "cell_type": "code",
   "execution_count": 1,
   "metadata": {},
   "outputs": [],
   "source": [
    "import base64"
   ]
  },
  {
   "cell_type": "code",
   "execution_count": 9,
   "metadata": {},
   "outputs": [],
   "source": [
    "quantity = 22.0\n",
    "e = base64.b64encode(bytes(str(quantity), 'utf-8'))"
   ]
  },
  {
   "cell_type": "code",
   "execution_count": 11,
   "metadata": {},
   "outputs": [
    {
     "output_type": "execute_result",
     "data": {
      "text/plain": [
       "'22.0'"
      ]
     },
     "metadata": {},
     "execution_count": 11
    }
   ],
   "source": [
    "base64.b64decode(e).decode()"
   ]
  },
  {
   "cell_type": "code",
   "execution_count": 5,
   "metadata": {},
   "outputs": [
    {
     "output_type": "stream",
     "name": "stdout",
     "text": [
      "'Check your transaction on the Tangle!'\n'https://utils.iota.org/transaction/ZEIINQQVRKNCSLOJYGIGBVYVFXLUFPSGKFCODIAHWPRTXDXLTNUVTWWYXBSSHBSZC9YNKFRJQNJZPR999/devnet'\n"
     ]
    }
   ],
   "source": [
    "from iota import Iota, TryteString, Address, Tag, ProposedTransaction\n",
    "from pprint import pprint\n",
    "\n",
    "# Declare an API object\n",
    "api = Iota('https://nodes.devnet.iota.org:443', devnet=True)\n",
    "\n",
    "# Prepare custom data\n",
    "my_data = TryteString.from_unicode('Hello from the Tangle!')\n",
    "\n",
    "# Generate a random address that doesn't have to belong to anyone\n",
    "my_address = Address.random()\n",
    "\n",
    "# Tag is optional here\n",
    "my_tag = Tag(b'MY9FIRST9TAG')\n",
    "\n",
    "# Prepare a transaction object\n",
    "tx = ProposedTransaction(\n",
    "    address=my_address,\n",
    "    value=0,\n",
    "    tag=my_tag,\n",
    "    message=my_data\n",
    ")\n",
    "\n",
    "# Send the transaction to the network\n",
    "response = api.send_transfer([tx])\n",
    "\n",
    "pprint('Check your transaction on the Tangle!')\n",
    "pprint('https://utils.iota.org/transaction/%s/devnet' % response['bundle'][0].hash)"
   ]
  },
  {
   "cell_type": "code",
   "execution_count": 1,
   "metadata": {},
   "outputs": [
    {
     "output_type": "stream",
     "name": "stdout",
     "text": [
      "hello\n"
     ]
    }
   ],
   "source": [
    "while True:\n",
    "    try:\n",
    "        print('hello')\n",
    "    except:\n",
    "        print('except')\n",
    "    else:\n",
    "        break"
   ]
  }
 ]
}