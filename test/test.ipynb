{
 "metadata": {
  "language_info": {
   "codemirror_mode": {
    "name": "ipython",
    "version": 3
   },
   "file_extension": ".py",
   "mimetype": "text/x-python",
   "name": "python",
   "nbconvert_exporter": "python",
   "pygments_lexer": "ipython3",
   "version": "3.7.0"
  },
  "orig_nbformat": 2,
  "kernelspec": {
   "name": "python370jvsc74a57bd0199fe5134fc0863efb0a0ebb1d6b8f4fed8f12ecee71d101e0be3c7f0ffe7964",
   "display_name": "Python 3.7.0 64-bit ('iota': conda)"
  }
 },
 "nbformat": 4,
 "nbformat_minor": 2,
 "cells": [
  {
   "cell_type": "code",
   "execution_count": 1,
   "metadata": {},
   "outputs": [],
   "source": [
    "import os\n",
    "import nest_asyncio\n",
    "nest_asyncio.apply()\n",
    "os.chdir('./Iota_TradePlatform/')\n",
    "from Basic.Node import Node, decorator\n",
    "from iota import ProposedTransaction, Address, TryteString\n",
    "import asyncio "
   ]
  },
  {
   "cell_type": "code",
   "execution_count": 4,
   "metadata": {},
   "outputs": [],
   "source": [
    "node = Node()"
   ]
  },
  {
   "cell_type": "code",
   "execution_count": 6,
   "metadata": {},
   "outputs": [],
   "source": [
    "addy = Address('PZITJTHCIIANKQWEBWPUPHWPWVNBKW9GMNALMGGSIAUOYCKNWDLUUIGAVMJYCHZXHUBRIVPLFZHUVDLME')\n",
    "transactions = [\n",
    "    ProposedTransaction(\n",
    "        address=addy,\n",
    "        value=0,\n",
    "        message=TryteString.from_unicode('First'),\n",
    "    ),\n",
    "    ProposedTransaction(\n",
    "        address=addy,\n",
    "        value=0,\n",
    "        message=TryteString.from_unicode('Second'),\n",
    "    ),\n",
    "    ProposedTransaction(\n",
    "        address=addy,\n",
    "        value=0,\n",
    "        message=TryteString.from_unicode('Third'),\n",
    "    ),\n",
    "]"
   ]
  },
  {
   "cell_type": "code",
   "execution_count": 7,
   "metadata": {},
   "outputs": [
    {
     "output_type": "stream",
     "name": "stdout",
     "text": [
      "Sending bundle...\n",
      "Sent bundle with transactions: \n",
      "TDYDTTZSLJDEWIGK9O9QVZ9KYIQWXS9PZVIBUGYCWNIGEP9IBQVEAFFAFXRFRNMZOYT9MTPZZTBJPW999\n",
      "GCJRTLEKMZZXBAEYPELNKFEYKJF9NFSLJNXLMXJYF9ZLYFNGSO9XFBDCOBLSIOIDNWWELEELXEFPGQ999\n",
      "ADXZYBNNWBKCHLMUHEAPNLHNJVKYRYQXRTXAUPMBJMEVBFTNLQJRVKYRHJSAEAYHLLO9HJ9TSDHZHR999\n",
      "Checking confirmation...\n",
      ".\n",
      "Transaction TDYDTTZSLJDEWIGK9O9QVZ9KYIQWXS9PZVIBUGYCWNIGEP9IBQVEAFFAFXRFRNMZOYT9MTPZZTBJPW999 is confirmed.\n",
      "Transaction ADXZYBNNWBKCHLMUHEAPNLHNJVKYRYQXRTXAUPMBJMEVBFTNLQJRVKYRHJSAEAYHLLO9HJ9TSDHZHR999 is confirmed.\n",
      ".\n",
      "Transaction GCJRTLEKMZZXBAEYPELNKFEYKJF9NFSLJNXLMXJYF9ZLYFNGSO9XFBDCOBLSIOIDNWWELEELXEFPGQ999 is confirmed.\n"
     ]
    },
    {
     "output_type": "execute_result",
     "data": {
      "text/plain": [
       "True"
      ]
     },
     "metadata": {},
     "execution_count": 7
    }
   ],
   "source": [
    "decorator(node.send(transactions))"
   ]
  },
  {
   "cell_type": "code",
   "execution_count": 8,
   "metadata": {},
   "outputs": [
    {
     "output_type": "execute_result",
     "data": {
      "text/plain": [
       "['Second',\n",
       " 'Second',\n",
       " 'Third',\n",
       " 'Third',\n",
       " 'Third',\n",
       " 'First',\n",
       " 'Second',\n",
       " 'Third',\n",
       " 'First',\n",
       " 'First',\n",
       " 'First',\n",
       " 'Second']"
      ]
     },
     "metadata": {},
     "execution_count": 8
    }
   ],
   "source": [
    "decorator(node.fetch(addy))"
   ]
  },
  {
   "cell_type": "code",
   "execution_count": 1,
   "metadata": {},
   "outputs": [],
   "source": [
    "import redis"
   ]
  },
  {
   "cell_type": "code",
   "execution_count": 2,
   "metadata": {},
   "outputs": [],
   "source": [
    "pub = redis.StrictRedis(host='115.159.218.11', port=6379, password='2Wy%sGehG3UAe3mt')"
   ]
  },
  {
   "cell_type": "code",
   "execution_count": 3,
   "metadata": {},
   "outputs": [],
   "source": [
    "sub1 = redis.StrictRedis(host='115.159.218.11', port=6379, password='2Wy%sGehG3UAe3mt')\n",
    "sub2 = redis.StrictRedis(host='115.159.218.11', port=6379, password='2Wy%sGehG3UAe3mt')\n",
    "ps1 = sub1.pubsub()\n",
    "ps2 = sub2.pubsub()\n",
    "#ps1.subscribe('liao') \n",
    "#ps2.subscribe('liao') "
   ]
  },
  {
   "cell_type": "code",
   "execution_count": 4,
   "metadata": {},
   "outputs": [],
   "source": [
    "def my_handler(message, store=[]):\n",
    "    print('MY HANDLER: ', message['data'])\n",
    "ps1.subscribe(**{'liao': my_handler})\n",
    "thread1 = ps1.run_in_thread()"
   ]
  },
  {
   "cell_type": "code",
   "execution_count": 12,
   "metadata": {},
   "outputs": [],
   "source": [
    "ps2.subscribe('liao') "
   ]
  },
  {
   "cell_type": "code",
   "execution_count": 13,
   "metadata": {},
   "outputs": [
    {
     "output_type": "execute_result",
     "data": {
      "text/plain": [
       "{'type': 'subscribe', 'pattern': None, 'channel': b'liao', 'data': 1}"
      ]
     },
     "metadata": {},
     "execution_count": 13
    }
   ],
   "source": [
    "ps2.get_message()"
   ]
  },
  {
   "cell_type": "code",
   "execution_count": 15,
   "metadata": {},
   "outputs": [
    {
     "output_type": "execute_result",
     "data": {
      "text/plain": [
       "{'type': 'message', 'pattern': None, 'channel': b'liao', 'data': b'hello'}"
      ]
     },
     "metadata": {},
     "execution_count": 15
    }
   ],
   "source": [
    "ps2.get_message()"
   ]
  },
  {
   "cell_type": "code",
   "execution_count": 14,
   "metadata": {},
   "outputs": [
    {
     "output_type": "execute_result",
     "data": {
      "text/plain": [
       "2"
      ]
     },
     "metadata": {},
     "execution_count": 14
    }
   ],
   "source": [
    "pub.publish('liao','hello')"
   ]
  },
  {
   "cell_type": "code",
   "execution_count": 1,
   "metadata": {},
   "outputs": [],
   "source": [
    "import os\n",
    "os.chdir('..')\n",
    "from Basic.Public_Com import Client"
   ]
  },
  {
   "cell_type": "code",
   "execution_count": 2,
   "metadata": {},
   "outputs": [
    {
     "output_type": "stream",
     "name": "stdout",
     "text": [
      "Client has started, the connection will be closed if it's no longer active\nClient has started, the connection will be closed if it's no longer active\n"
     ]
    }
   ],
   "source": [
    "pub = Client()\n",
    "sub = Client(sub=True)"
   ]
  },
  {
   "cell_type": "code",
   "execution_count": 3,
   "metadata": {},
   "outputs": [
    {
     "output_type": "stream",
     "name": "stdout",
     "text": [
      "msg of [channel: w] will be handled by self.handler as soon as recived\nto stop this thread, call thread.stop()\n"
     ]
    },
    {
     "output_type": "execute_result",
     "data": {
      "text/plain": [
       "<PubSubWorkerThread(Thread-4, started 8596)>"
      ]
     },
     "metadata": {},
     "execution_count": 3
    }
   ],
   "source": [
    "sub.subscribe('w', True)"
   ]
  },
  {
   "cell_type": "code",
   "execution_count": 4,
   "metadata": {},
   "outputs": [],
   "source": [
    "sub.get_message()"
   ]
  },
  {
   "cell_type": "code",
   "execution_count": 8,
   "metadata": {},
   "outputs": [
    {
     "output_type": "stream",
     "name": "stdout",
     "text": [
      "CHANNEL[b'w']:b'878'\n"
     ]
    }
   ],
   "source": [
    "num = pub.publish('w','878')"
   ]
  },
  {
   "cell_type": "code",
   "execution_count": 2,
   "metadata": {},
   "outputs": [
    {
     "output_type": "execute_result",
     "data": {
      "text/plain": [
       "float"
      ]
     },
     "metadata": {},
     "execution_count": 2
    }
   ],
   "source": [
    "import time\n",
    "type(time.time())"
   ]
  }
 ]
}