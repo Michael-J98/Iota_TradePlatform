{
 "cells": [
  {
   "cell_type": "code",
   "execution_count": 1,
   "id": "c7b09110",
   "metadata": {},
   "outputs": [],
   "source": [
    "import os\n",
    "import nest_asyncio\n",
    "nest_asyncio.apply()\n",
    "os.chdir('..')\n",
    "from Basic.Node import Node, decorator\n",
    "from iota import ProposedTransaction, Address, TryteString\n",
    "import asyncio"
   ]
  },
  {
   "cell_type": "code",
   "execution_count": 2,
   "id": "9f387508",
   "metadata": {},
   "outputs": [],
   "source": [
    "import Prosumer"
   ]
  },
  {
   "cell_type": "code",
   "execution_count": 3,
   "id": "f7347ae5",
   "metadata": {},
   "outputs": [],
   "source": [
    "# 假定是一个卖风电的生产者\n",
    "# 初始化格式（ID, price, quantity, tag）,ID和tag我定义为字符串了\n",
    "producer = Prosumer.producer('seller', 0, 0, 'tag')"
   ]
  },
  {
   "cell_type": "code",
   "execution_count": 4,
   "id": "8a036596",
   "metadata": {},
   "outputs": [
    {
     "name": "stdout",
     "output_type": "stream",
     "text": [
      "initialize node complete\n"
     ]
    }
   ],
   "source": [
    "# node initialization\n",
    "# 初始化节点具体要做什么没有写\n",
    "producer.initialize_node()"
   ]
  },
  {
   "cell_type": "code",
   "execution_count": 5,
   "id": "4924072f",
   "metadata": {},
   "outputs": [
    {
     "name": "stdout",
     "output_type": "stream",
     "text": [
      "trading strategy initialization complete\n"
     ]
    }
   ],
   "source": [
    "# trading strategy initialization\n",
    "# 这一步里如何给IoT设备电力和价格也没有写\n",
    "producer.initialize_trading_strategy()"
   ]
  },
  {
   "cell_type": "code",
   "execution_count": 6,
   "id": "363bc6b5",
   "metadata": {},
   "outputs": [
    {
     "name": "stdout",
     "output_type": "stream",
     "text": [
      "Pub/Sub initialization complete.\n"
     ]
    }
   ],
   "source": [
    "# Pub/Sub initialization\n",
    "# 如何初始化，依旧没写\n",
    "producer.initialize_pub_sub()"
   ]
  },
  {
   "cell_type": "code",
   "execution_count": 7,
   "id": "38fe58ba",
   "metadata": {},
   "outputs": [
    {
     "name": "stdout",
     "output_type": "stream",
     "text": [
      "subscribe channel complete\n"
     ]
    }
   ],
   "source": [
    "# subscribe the I-P channel\n",
    "producer.subscribe_channel()"
   ]
  },
  {
   "cell_type": "code",
   "execution_count": 8,
   "id": "45a96634",
   "metadata": {},
   "outputs": [
    {
     "name": "stdout",
     "output_type": "stream",
     "text": [
      "\n"
     ]
    }
   ],
   "source": [
    "# receive data from IoT\n",
    "IoT_data = producer.receive_from_IoT()\n",
    "print(IoT_data)"
   ]
  },
  {
   "cell_type": "code",
   "execution_count": 9,
   "id": "d285473e",
   "metadata": {},
   "outputs": [
    {
     "name": "stdout",
     "output_type": "stream",
     "text": [
      "Generating a random seed...\n",
      "My seed is: VLNANPACIDFSQCSUZMASENPJQMLBCIMVRHFETFYTBK9OFN9KIGFYAAFB9RFXWTKHVJQYKJBGDJUPJNXLB\n",
      "Generating the first unused address...\n",
      "My new address is: PKVFZIDVNSMARAGTEMSHMOOJTOESFCLZIDOMUTLSXKGAUCEVRPOSLMEICBPGYMSSRXWMSEXHFPHKRPLWX\n",
      "Go to https://faucet.devnet.iota.org/ and enter you address to receive free devnet tokens.\n"
     ]
    }
   ],
   "source": [
    "# publish\n",
    "producer.publish_info()"
   ]
  },
  {
   "cell_type": "code",
   "execution_count": 10,
   "id": "8c0a40bf",
   "metadata": {},
   "outputs": [],
   "source": [
    "# receive\n",
    "producer.receive_from_channel()\n",
    "producer.receive_from_producer()"
   ]
  },
  {
   "cell_type": "code",
   "execution_count": 11,
   "id": "02ea7f49",
   "metadata": {},
   "outputs": [],
   "source": [
    "# choose\n",
    "producer.select_producer()"
   ]
  },
  {
   "cell_type": "code",
   "execution_count": 12,
   "id": "24f95b86",
   "metadata": {},
   "outputs": [],
   "source": [
    "# receive from consumer\n",
    "producer.receive_from_consumer()"
   ]
  },
  {
   "cell_type": "code",
   "execution_count": 13,
   "id": "60e0c537",
   "metadata": {},
   "outputs": [],
   "source": [
    "# smart contract\n",
    "producer.smart_contract()"
   ]
  },
  {
   "cell_type": "code",
   "execution_count": 14,
   "id": "ee913428",
   "metadata": {},
   "outputs": [],
   "source": [
    "# publish password\n",
    "# 不知道这一步干什么的\n",
    "producer.publish_password()"
   ]
  },
  {
   "cell_type": "code",
   "execution_count": 15,
   "id": "c48bf8e3",
   "metadata": {},
   "outputs": [],
   "source": [
    "# connect consumer IoT\n",
    "producer.connect_consumer_IoT()"
   ]
  }
 ],
 "metadata": {
  "kernelspec": {
   "display_name": "Python 3",
   "language": "python",
   "name": "python3"
  },
  "language_info": {
   "codemirror_mode": {
    "name": "ipython",
    "version": 3
   },
   "file_extension": ".py",
   "mimetype": "text/x-python",
   "name": "python",
   "nbconvert_exporter": "python",
   "pygments_lexer": "ipython3",
   "version": "3.7.0"
  }
 },
 "nbformat": 4,
 "nbformat_minor": 5
}
