{
 "cells": [
  {
   "cell_type": "code",
   "execution_count": 1,
   "id": "f6b9561b",
   "metadata": {},
   "outputs": [],
   "source": [
    "import os\n",
    "import nest_asyncio\n",
    "nest_asyncio.apply()\n",
    "os.chdir('..')\n",
    "from Basic.Node import Node, decorator\n",
    "from iota import ProposedTransaction, Address, TryteString\n",
    "import asyncio"
   ]
  },
  {
   "cell_type": "code",
   "execution_count": 2,
   "id": "bab3b5ff",
   "metadata": {},
   "outputs": [],
   "source": [
    "import Prosumer"
   ]
  },
  {
   "cell_type": "code",
   "execution_count": 3,
   "id": "786fdbeb",
   "metadata": {},
   "outputs": [],
   "source": [
    "import pandas as pd\n",
    "import numpy as np"
   ]
  },
  {
   "cell_type": "code",
   "execution_count": 4,
   "id": "f11fb757",
   "metadata": {},
   "outputs": [],
   "source": [
    "# 假定是一个买风电的消费者\n",
    "# 初始化格式（ID, price, quantity, tag）,ID和tag我定义为字符串了\n",
    "buyer = Prosumer.consumer('buyer', 1, 10, 'tag')"
   ]
  },
  {
   "cell_type": "code",
   "execution_count": 5,
   "id": "024581f8",
   "metadata": {},
   "outputs": [
    {
     "name": "stdout",
     "output_type": "stream",
     "text": [
      "connect to tangle complete\n"
     ]
    }
   ],
   "source": [
    "buyer.connect_to_tangle()"
   ]
  },
  {
   "cell_type": "code",
   "execution_count": 6,
   "id": "456d9dca",
   "metadata": {},
   "outputs": [
    {
     "name": "stdout",
     "output_type": "stream",
     "text": [
      "Password is password\n",
      "Status is \n"
     ]
    }
   ],
   "source": [
    "buyer.receive_IoT_password()"
   ]
  },
  {
   "cell_type": "code",
   "execution_count": 7,
   "id": "3e6796af",
   "metadata": {},
   "outputs": [
    {
     "name": "stdout",
     "output_type": "stream",
     "text": [
      "node initialize complete\n",
      "IOTA funding\n",
      "trading strategy initialization complete\n",
      "subscribe channel complet\n",
      "Pub/Sub initialization complete.\n"
     ]
    }
   ],
   "source": [
    "buyer.initialize_node()\n",
    "buyer.IOTA_funding()\n",
    "buyer.initialize_trading_strategy()\n",
    "buyer.subscribe_channel()\n",
    "buyer.initialize_pub_sub()"
   ]
  },
  {
   "cell_type": "code",
   "execution_count": 8,
   "id": "4fd4624d",
   "metadata": {},
   "outputs": [],
   "source": [
    "IoT_data = buyer.receive_from_IoT"
   ]
  },
  {
   "cell_type": "code",
   "execution_count": 9,
   "id": "76e3b230",
   "metadata": {},
   "outputs": [],
   "source": [
    "producer_info = buyer.receive_from_prosumer()"
   ]
  },
  {
   "cell_type": "code",
   "execution_count": 10,
   "id": "d63b4b1f",
   "metadata": {},
   "outputs": [],
   "source": [
    "def generate_producer(seller_amount):\n",
    "    # 假定有seller_amount个卖家公布了信息\n",
    "    producer_info = pd.DataFrame([], index = range(seller_amount))\n",
    "    producer_info['price'] = np.random.randint(0,10,size=(seller_amount,1))\n",
    "    producer_info['quantity'] = np.random.randint(0,10,size=(seller_amount,1))\n",
    "    producer_info['address'] = np.random.randint(0,10,size=(seller_amount,1))\n",
    "    return producer_info"
   ]
  },
  {
   "cell_type": "code",
   "execution_count": 11,
   "id": "54a35837",
   "metadata": {},
   "outputs": [
    {
     "name": "stdout",
     "output_type": "stream",
     "text": [
      "   price  quantity  address\n",
      "0      0         1        9\n",
      "1      4         2        6\n",
      "2      5         1        0\n",
      "3      5         6        3\n",
      "4      6         0        6\n",
      "5      4         9        9\n"
     ]
    }
   ],
   "source": [
    "producer_info = generate_producer(6)\n",
    "print(producer_info)"
   ]
  },
  {
   "cell_type": "code",
   "execution_count": 12,
   "id": "568bdf85",
   "metadata": {
    "scrolled": true
   },
   "outputs": [
    {
     "name": "stdout",
     "output_type": "stream",
     "text": [
      "   price  quantity  address  transaction quantity\n",
      "0      0         1        9                   1.0\n",
      "5      4         9        9                   9.0\n",
      "1      4         2        6                   0.0\n",
      "3      5         6        3                   0.0\n",
      "2      5         1        0                   0.0\n",
      "4      6         0        6                   0.0\n"
     ]
    }
   ],
   "source": [
    "transaction_info = buyer.select_producer(producer_info)\n",
    "print(transaction_info)"
   ]
  },
  {
   "cell_type": "code",
   "execution_count": 13,
   "id": "ea719fc8",
   "metadata": {},
   "outputs": [],
   "source": [
    "buyer.publish_info()"
   ]
  },
  {
   "cell_type": "code",
   "execution_count": 14,
   "id": "575c9b38",
   "metadata": {},
   "outputs": [],
   "source": [
    "buyer.receive_from_IoT()"
   ]
  },
  {
   "cell_type": "code",
   "execution_count": 15,
   "id": "68c8d13a",
   "metadata": {},
   "outputs": [],
   "source": [
    "buyer.transfer_token()"
   ]
  }
 ],
 "metadata": {
  "kernelspec": {
   "display_name": "Python 3",
   "language": "python",
   "name": "python3"
  },
  "language_info": {
   "codemirror_mode": {
    "name": "ipython",
    "version": 3
   },
   "file_extension": ".py",
   "mimetype": "text/x-python",
   "name": "python",
   "nbconvert_exporter": "python",
   "pygments_lexer": "ipython3",
   "version": "3.7.0"
  }
 },
 "nbformat": 4,
 "nbformat_minor": 5
}
